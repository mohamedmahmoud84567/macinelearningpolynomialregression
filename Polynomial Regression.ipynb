{
 "cells": [
  {
   "cell_type": "code",
   "execution_count": 1,
   "id": "ae57b228",
   "metadata": {},
   "outputs": [],
   "source": [
    "# TODO: Add import statements\n",
    "from sklearn.linear_model import LinearRegression\n",
    "from sklearn.preprocessing import PolynomialFeatures\n",
    "import numpy as np\n",
    "import pandas as pd\n"
   ]
  },
  {
   "cell_type": "code",
   "execution_count": 16,
   "id": "ec6740ee",
   "metadata": {},
   "outputs": [],
   "source": [
    "#Loading the data and assign the data to predictor and outcome variables\n",
    "train_data=pd.read_csv('datapoly.csv')\n",
    "#we will make a 2-d array of 20 rows by 1 column to extend it later\n",
    "X=train_data['Var_X'].values.reshape(-1,1)\n",
    "y=train_data['Var_Y'].values\n",
    "\n"
   ]
  },
  {
   "cell_type": "code",
   "execution_count": 28,
   "id": "7e6ac242",
   "metadata": {},
   "outputs": [],
   "source": [
    "# Create polynomial features\n",
    "# Create a PolynomialFeatures object, then fit and transform the\n",
    "# predictor feature\n",
    "poly_feat=PolynomialFeatures(degree=4)\n",
    "X_poly=poly_feat.fit_transform(X)"
   ]
  },
  {
   "cell_type": "code",
   "execution_count": 31,
   "id": "d530450a",
   "metadata": {},
   "outputs": [
    {
     "name": "stdout",
     "output_type": "stream",
     "text": [
      "Coefficients: [ 3.37563501 -6.28126025 -2.3787942   0.55307182  0.22699807]\n",
      "Intercept: 0.0\n"
     ]
    }
   ],
   "source": [
    "# Make and fit the polynomial regression model\n",
    "# Create a LinearRegression object and fit it to the polynomial predictor\n",
    "# features\n",
    "poly_model=LinearRegression(fit_intercept = False).fit(X_poly,y)\n",
    "print(f\"Coefficients: {poly_model.coef_}\")\n",
    "print(f\"Intercept: {poly_model.intercept_}\")\n"
   ]
  },
  {
   "cell_type": "code",
   "execution_count": null,
   "id": "bc459110",
   "metadata": {},
   "outputs": [],
   "source": []
  }
 ],
 "metadata": {
  "kernelspec": {
   "display_name": "Python 3 (ipykernel)",
   "language": "python",
   "name": "python3"
  },
  "language_info": {
   "codemirror_mode": {
    "name": "ipython",
    "version": 3
   },
   "file_extension": ".py",
   "mimetype": "text/x-python",
   "name": "python",
   "nbconvert_exporter": "python",
   "pygments_lexer": "ipython3",
   "version": "3.9.7"
  }
 },
 "nbformat": 4,
 "nbformat_minor": 5
}
